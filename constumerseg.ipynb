{
  "metadata": {
    "language_info": {
      "codemirror_mode": {
        "name": "python",
        "version": 3
      },
      "file_extension": ".py",
      "mimetype": "text/x-python",
      "name": "python",
      "nbconvert_exporter": "python",
      "pygments_lexer": "ipython3",
      "version": "3.8"
    },
    "kernelspec": {
      "name": "python",
      "display_name": "Python (Pyodide)",
      "language": "python"
    }
  },
  "nbformat_minor": 4,
  "nbformat": 4,
  "cells": [
    {
      "cell_type": "code",
      "source": "# data wrangling\nimport pandas as pd\nimport numpy as np\n\n# visualization\nimport matplotlib.pyplot as plt\nimport plotly.express as px\nimport plotly.graph_objects as go\nfrom plotly.subplots import make_subplots\n\n# for data preprocessing and clustering\nfrom sklearn.cluster import KMeans\n\n%matplotlib inline\n# to include graphs inline within the frontends next to code\n\n%config InlineBackend.figure_format='retina'\n#to enable retina (high resolution) plots\n\npd.options.mode.chained_assignment = None\n# to bypass warnings in various dataframe assignments",
      "metadata": {},
      "execution_count": null,
      "outputs": []
    },
    {
      "cell_type": "code",
      "source": "# load data into a dataframe\ncustomers_orders = pd.read_csv(\"Orders - Analysis Task.csv\")",
      "metadata": {},
      "execution_count": null,
      "outputs": []
    },
    {
      "cell_type": "code",
      "source": "customers_orders = customers_orders[\n    customers_orders[\"ordered_item_quantity\"] > 0]",
      "metadata": {},
      "execution_count": null,
      "outputs": []
    },
    {
      "cell_type": "code",
      "source": "def encode_column(column):\n    if column > 0:\n        return 1\n    if column <= 0:\n        return 0\n\n\ndef aggregate_by_ordered_quantity(dataframe, column_list):\n    '''this function:\n    1. aggregates a given dataframe by column list, \n    as a result creates a aggregated dataframe by counting the ordered item quantities\n\n    2. adds number_of_X ordered where X is the second element in the column_list \n    to the aggregated dataframe by encoding ordered items into 1\n\n    3. creates final dataframe containing information about \n    how many of X are ordered, based on the first element passed in the column list'''\n\n    aggregated_dataframe = (dataframe\n                            .groupby(column_list)\n                            .ordered_item_quantity.count()\n                            .reset_index())\n\n    aggregated_dataframe[\"products_ordered\"] = (aggregated_dataframe\n                                                 .ordered_item_quantity\n                                                 .apply(encode_column))\n\n    final_dataframe = (aggregated_dataframe\n                       .groupby(column_list[0])\n                       .products_ordered.sum() # aligned with the added column name\n                       .reset_index())\n\n    return final_dataframe",
      "metadata": {},
      "execution_count": null,
      "outputs": []
    },
    {
      "cell_type": "code",
      "source": "customers = aggregate_by_ordered_quantity(customers_orders, [\"customer_id\", \"product_type\"])",
      "metadata": {},
      "execution_count": null,
      "outputs": []
    },
    {
      "cell_type": "code",
      "source": "# aggregate data per customer_id and order_id, \n# to see ordered item sum and returned item sum\nordered_sum_by_customer_order = (customers_orders\n                                 .groupby([\"customer_id\", \"order_id\"])\n                                 .ordered_item_quantity.sum()\n                                 .reset_index())\n\nreturned_sum_by_customer_order = (customers_orders\n                                  .groupby([\"customer_id\", \"order_id\"])\n                                  .returned_item_quantity.sum()\n                                  .reset_index())\n\n# merge two dataframes to be able to calculate unit return rate\nordered_returned_sums = pd.merge(ordered_sum_by_customer_order, returned_sum_by_customer_order)",
      "metadata": {},
      "execution_count": null,
      "outputs": []
    },
    {
      "cell_type": "code",
      "source": "# calculate unit return rate per order and customer\nordered_returned_sums[\"average_return_rate\"] = (-1 * \n                                             ordered_returned_sums[\"returned_item_quantity\"] /\n                                             ordered_returned_sums[\"ordered_item_quantity\"])",
      "metadata": {},
      "execution_count": null,
      "outputs": []
    },
    {
      "cell_type": "code",
      "source": "# take average of the unit return rate for all orders of a customer\ncustomer_return_rate = (ordered_returned_sums\n                        .groupby(\"customer_id\")\n                        .average_return_rate\n                        .mean()\n                        .reset_index())",
      "metadata": {},
      "execution_count": null,
      "outputs": []
    },
    {
      "cell_type": "code",
      "source": "return_rates = pd.DataFrame(customer_return_rate[\"average_return_rate\"]\n                            .value_counts()\n                            .reset_index())\n\nreturn_rates.rename(columns=\n                    {\"index\": \"average return rate\",\n                     \"average_return_rate\": \"count of unit return rate\"},\n                    inplace=True)\n\nreturn_rates.sort_values(by=\"average return rate\")",
      "metadata": {},
      "execution_count": null,
      "outputs": []
    },
    {
      "cell_type": "code",
      "source": "# add average_return_rate to customers dataframe\ncustomers = pd.merge(customers,\n                     customer_return_rate,\n                     on=\"customer_id\")",
      "metadata": {},
      "execution_count": null,
      "outputs": []
    },
    {
      "cell_type": "code",
      "source": "# aggreagate total sales per customer id\ncustomer_total_spending = (customers_orders\n                           .groupby(\"customer_id\")\n                           .total_sales\n                           .sum()\n                           .reset_index())\n\ncustomer_total_spending.rename(columns = {\"total_sales\" : \"total_spending\"},\n                               inplace = True)",
      "metadata": {},
      "execution_count": null,
      "outputs": []
    },
    {
      "cell_type": "code",
      "source": "# add total sales to customers dataframe\ncustomers = customers.merge(customer_total_spending, \n                            on=\"customer_id\")\n# drop id column since it is not a feature\ncustomers.drop(columns=\"customer_id\",\n               inplace=True)",
      "metadata": {},
      "execution_count": null,
      "outputs": []
    },
    {
      "cell_type": "code",
      "source": "def apply_log1p_transformation(dataframe, column):\n    '''This function takes a dataframe and a column in the string format\n    then applies numpy log1p transformation to the column\n    as a result returns log1p applied pandas series'''\n    \n    dataframe[\"log_\" + column] = np.log1p(dataframe[column])\n    return dataframe[\"log_\" + column]\napply_log1p_transformation(customers, \"products_ordered\")",
      "metadata": {},
      "execution_count": null,
      "outputs": []
    },
    {
      "cell_type": "code",
      "source": "# create initial K-means model\nkmeans_model = KMeans(init='k-means++', \n                      max_iter=500, \n                      random_state=42)\nkmeans_model.fit(customers.iloc[:,3:])\n\n# print the sum of distances from all examples to the center of the cluster\nprint(\"within-cluster sum-of-squares (inertia) of the model is:\", kmeans_model.inertia_)",
      "metadata": {},
      "execution_count": null,
      "outputs": []
    },
    {
      "cell_type": "code",
      "source": "def make_list_of_K(K, dataframe):\n    '''inputs: K as integer and dataframe\n    apply k-means clustering to dataframe\n    and make a list of inertia values against 1 to K (inclusive)\n    return the inertia values list\n    '''\n    \n    cluster_values = list(range(1, K+1))\n    inertia_values=[]\n    \n    for c in cluster_values:\n        model = KMeans(\n            n_clusters = c, \n            init='k-means++', \n            max_iter=500, \n            random_state=42)\n        model.fit(dataframe)\n        inertia_values.append(model.inertia_)\n    \n    return inertia_values",
      "metadata": {},
      "execution_count": null,
      "outputs": []
    },
    {
      "cell_type": "code",
      "source": "# save inertia values in a dataframe for k values between 1 to 15 \nresults = make_list_of_K(15, customers.iloc[:, 3:])\n\nk_values_distances = pd.DataFrame({\"clusters\": list(range(1, 16)),\n                                   \"within cluster sum of squared distances\": results})",
      "metadata": {},
      "execution_count": null,
      "outputs": []
    },
    {
      "cell_type": "code",
      "source": "# create clustering model with optimal k=4\nupdated_kmeans_model = KMeans(n_clusters = 4, \n                              init='k-means++', \n                              max_iter=500, \n                              random_state=42)\n\nupdated_kmeans_model.fit_predict(customers.iloc[:,3:])",
      "metadata": {},
      "execution_count": null,
      "outputs": []
    },
    {
      "cell_type": "code",
      "source": "# create cluster centers and actual data arrays\ncluster_centers = updated_kmeans_model.cluster_centers_\nactual_data = np.expm1(cluster_centers)\nadd_points = np.append(actual_data, cluster_centers, axis=1)\nadd_points",
      "metadata": {},
      "execution_count": null,
      "outputs": []
    },
    {
      "cell_type": "code",
      "source": "# add labels to customers dataframe and add_points array\nadd_points = np.append(add_points, [[0], [1], [2], [3]], axis=1)\ncustomers[\"clusters\"] = updated_kmeans_model.labels_",
      "metadata": {},
      "execution_count": null,
      "outputs": []
    },
    {
      "cell_type": "code",
      "source": "# create centers dataframe from add_points\ncenters_df = pd.DataFrame(data=add_points, columns=[\"products_ordered\",\n                                                    \"average_return_rate\",\n                                                    \"total_spending\",\n                                                    \"log_products_ordered\",\n                                                    \"log_average_return_rate\",\n                                                    \"log_total_spending\",\n                                                    \"clusters\"])\ncenters_df.head()\n# align cluster centers of centers_df and customers\ncenters_df[\"clusters\"] = centers_df[\"clusters\"].astype(\"int\")",
      "metadata": {},
      "execution_count": null,
      "outputs": []
    }
  ]
}